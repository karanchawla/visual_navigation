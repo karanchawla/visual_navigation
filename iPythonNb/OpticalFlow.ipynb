{
 "cells": [
  {
   "cell_type": "code",
   "execution_count": 2,
   "metadata": {},
   "outputs": [],
   "source": [
    "import errno\n",
    "import json\n",
    "import os\n",
    "\n",
    "import cv2\n",
    "import matplotlib.pyplot as plt\n",
    "import numpy as np\n",
    "import pandas as pd\n",
    "import helper\n",
    "import argparse\n",
    "\n",
    "%matplotlib inline"
   ]
  },
  {
   "cell_type": "code",
   "execution_count": 3,
   "metadata": {},
   "outputs": [],
   "source": [
    "# Some useful constants\n",
    "DRIVING_LOG_FILE = os.getcwd() + os.sep + os.pardir + '/datasets/2/driving_log.csv'\n",
    "IMG_PATH = os.getcwd() + os.sep + os.pardir\n",
    "WINDOW_SIZE = 7\n",
    "OUTPUT_DIR = os.getcwd() + os.sep + os.pardir + '/flow_%d_right' % WINDOW_SIZE\n",
    "os.makedirs(OUTPUT_DIR)"
   ]
  },
  {
   "cell_type": "code",
   "execution_count": 4,
   "metadata": {},
   "outputs": [],
   "source": [
    "data_frame = pd.read_csv(DRIVING_LOG_FILE, usecols=[0,1,2,3])"
   ]
  },
  {
   "cell_type": "code",
   "execution_count": 5,
   "metadata": {},
   "outputs": [],
   "source": [
    "last = []\n",
    "prev_image = None\n",
    "\n",
    "for i in range(1, len(data_frame)):\n",
    "    img = cv2.imread(IMG_PATH + \"/datasets/2/DataRight/\" + str(i) + '.jpg')\n",
    "    prev = prev_image if prev_image is not None else img\n",
    "    prev_image = img\n",
    "    prev = cv2.cvtColor(prev, cv2.COLOR_RGB2GRAY)\n",
    "    next = cv2.cvtColor(img, cv2.COLOR_RGB2GRAY)\n",
    "    flow = cv2.calcOpticalFlowFarneback(prev, next, None, 0.5, 3, 15, 3, 5, 1.2, 0)\n",
    "    \n",
    "    last.append(flow)\n",
    "    if len(last) > WINDOW_SIZE: \n",
    "        last.pop(0)\n",
    "    avg_flow = sum(last) / len(last)\n",
    "    mag, ang = cv2.cartToPolar(avg_flow[..., 0], avg_flow[..., 1])\n",
    "\n",
    "    hsv = np.zeros_like(prev_image)\n",
    "    hsv[..., 1] = 255\n",
    "    hsv[..., 0] = ang * 180 / np.pi / 2\n",
    "    hsv[..., 2] = cv2.normalize(mag, None, 0, 255, cv2.NORM_MINMAX)\n",
    "    bgr = cv2.cvtColor(hsv, cv2.COLOR_HSV2BGR)\n",
    "    cv2.imwrite(os.path.join(OUTPUT_DIR, str(i) + \".jpg\"), bgr)"
   ]
  },
  {
   "cell_type": "code",
   "execution_count": null,
   "metadata": {},
   "outputs": [],
   "source": []
  }
 ],
 "metadata": {
  "kernelspec": {
   "display_name": "Python 3",
   "language": "python",
   "name": "python3"
  },
  "language_info": {
   "codemirror_mode": {
    "name": "ipython",
    "version": 3
   },
   "file_extension": ".py",
   "mimetype": "text/x-python",
   "name": "python",
   "nbconvert_exporter": "python",
   "pygments_lexer": "ipython3",
   "version": "3.6.3"
  }
 },
 "nbformat": 4,
 "nbformat_minor": 2
}
