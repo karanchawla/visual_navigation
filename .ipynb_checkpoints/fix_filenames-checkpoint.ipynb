{
 "cells": [
  {
   "cell_type": "code",
   "execution_count": 1,
   "metadata": {},
   "outputs": [],
   "source": [
    "import pandas as pd\n",
    "import sys"
   ]
  },
  {
   "cell_type": "code",
   "execution_count": 2,
   "metadata": {},
   "outputs": [],
   "source": [
    "csv_path = \"~/Fall/research/visual_navigation/driving_log.csv\""
   ]
  },
  {
   "cell_type": "code",
   "execution_count": 3,
   "metadata": {},
   "outputs": [],
   "source": [
    "driving_log = pd.read_csv(csv_path)"
   ]
  },
  {
   "cell_type": "code",
   "execution_count": 4,
   "metadata": {},
   "outputs": [],
   "source": [
    "num_rows = driving_log.shape[0]\n",
    "record_index = 0"
   ]
  },
  {
   "cell_type": "code",
   "execution_count": 5,
   "metadata": {},
   "outputs": [],
   "source": [
    "while record_index < num_rows:\n",
    "    center_file_path = driving_log.iloc[record_index,0]\n",
    "    left_file_path = driving_log.iloc[record_index,1]\n",
    "    right_file_path = driving_log.iloc[record_index,2]\n",
    "    if str(center_file_path) == \"nan\" or str(left_file_path) == \"nan\" or str(right_file_path) == \"nan\":\n",
    "        driving_log.drop(driving_log.index[record_index], inplace=True)\n",
    "        num_rows = driving_log.shape[0]\n",
    "    else:\n",
    "#         print(\"fixing row\", record_index, \"of\", num_rows, center_file_path, left_file_path, right_file_path)\n",
    "        driving_log.iloc[record_index, 0] = center_file_path[-34:]\n",
    "        driving_log.iloc[record_index, 1] = left_file_path[-32:]\n",
    "        driving_log.iloc[record_index, 2] = right_file_path[-33:]\n",
    "        record_index += 1"
   ]
  },
  {
   "cell_type": "code",
   "execution_count": 6,
   "metadata": {},
   "outputs": [
    {
     "name": "stdout",
     "output_type": "stream",
     "text": [
      "Overwriting csv file ~/Fall/research/visual_navigation/driving_log.csv\n"
     ]
    }
   ],
   "source": [
    "print(\"Overwriting csv file\" , csv_path)\n",
    "driving_log.to_csv(csv_path, header = None, index = False)"
   ]
  },
  {
   "cell_type": "code",
   "execution_count": 7,
   "metadata": {},
   "outputs": [
    {
     "name": "stdout",
     "output_type": "stream",
     "text": [
      "DONE\n"
     ]
    }
   ],
   "source": [
    "print(\"DONE\")"
   ]
  }
 ],
 "metadata": {
  "kernelspec": {
   "display_name": "Python 3",
   "language": "python",
   "name": "python3"
  },
  "language_info": {
   "codemirror_mode": {
    "name": "ipython",
    "version": 3
   },
   "file_extension": ".py",
   "mimetype": "text/x-python",
   "name": "python",
   "nbconvert_exporter": "python",
   "pygments_lexer": "ipython3",
   "version": "3.5.2"
  }
 },
 "nbformat": 4,
 "nbformat_minor": 2
}
